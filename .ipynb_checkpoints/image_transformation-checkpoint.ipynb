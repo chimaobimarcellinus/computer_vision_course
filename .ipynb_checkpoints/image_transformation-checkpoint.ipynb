{
 "cells": [
  {
   "cell_type": "code",
   "execution_count": 1,
   "id": "f61b0310-5d69-4dd1-a0d4-4812d2ef18a8",
   "metadata": {},
   "outputs": [],
   "source": [
    "import cv2\n",
    "import numpy as np"
   ]
  },
  {
   "cell_type": "code",
   "execution_count": 14,
   "id": "5eac0ddf-b572-44c7-98fc-cf2d98bf9430",
   "metadata": {},
   "outputs": [],
   "source": [
    "# input image\n",
    "image = cv2.imread(\"buga.png\")\n",
    "cv2.imshow(\"original image\", image)\n",
    "cv2.waitKey(0)\n",
    "\n",
    "# reducing the original image by half\n",
    "half_scaled = cv2.resize(image, dsize = None, fx = 0.5, fy = 0.5)\n",
    "cv2.imshow(\"half scaled image\", half_scaled)\n",
    "cv2.waitKey(0)\n",
    "\n",
    "# increasing image scaled with interpolation\n",
    "increse_scale = cv2.resize(image, dsize = None, fx = 1.5, fy= 1.5, interpolation = cv2.INTER_AREA)\n",
    "cv2.imshow(\"Increased scale\", increse_scale)\n",
    "cv2.waitKey(0)\n",
    "\n",
    "# skewing an image by including 'dsize' parameter\n",
    "scew = cv2.resize(image, dsize = (760, 150), interpolation = cv2.INTER_AREA)\n",
    "cv2.imshow(\"scew\", scew)\n",
    "cv2.waitKey(0)\n",
    "\n",
    "\n",
    "\n",
    "\n",
    "\n",
    "\n",
    "\n",
    "\n",
    "cv2.destroyAllWindows()"
   ]
  },
  {
   "cell_type": "markdown",
   "id": "c692c840-3bfc-45c6-9c6f-914cb054ff89",
   "metadata": {},
   "source": [
    "### Scaling by image pyramid\n",
    " Image pyramids comes handy. The pyrUp() function increases the size to double of its original size and pyrDown() function decreases the size to half.\n"
   ]
  },
  {
   "cell_type": "code",
   "execution_count": 16,
   "id": "967ab112-916b-475c-9914-48c34fd6fe60",
   "metadata": {},
   "outputs": [],
   "source": [
    "image = cv2.imread(\"buga.png\")\n",
    "cv2.imshow(\"original image\", image)\n",
    "cv2.waitKey(0)\n",
    "# scaling up\n",
    "large = cv2.pyrUp(image)\n",
    "cv2.imshow(\"large pyramid\", large)\n",
    "cv2.waitKey(0)\n",
    "\n",
    "# scaling down\n",
    "small = cv2.pyrDown(image)\n",
    "cv2.imshow(\"scaaling down pyramid\", small)\n",
    "cv2.waitKey(0)\n",
    "\n",
    "cv2.destroyAllWindows()"
   ]
  },
  {
   "cell_type": "code",
   "execution_count": null,
   "id": "fe6bd804-1b95-4a0f-a5c5-49195a83c6da",
   "metadata": {},
   "outputs": [],
   "source": []
  }
 ],
 "metadata": {
  "kernelspec": {
   "display_name": "Python 3 (ipykernel)",
   "language": "python",
   "name": "python3"
  },
  "language_info": {
   "codemirror_mode": {
    "name": "ipython",
    "version": 3
   },
   "file_extension": ".py",
   "mimetype": "text/x-python",
   "name": "python",
   "nbconvert_exporter": "python",
   "pygments_lexer": "ipython3",
   "version": "3.12.3"
  }
 },
 "nbformat": 4,
 "nbformat_minor": 5
}
