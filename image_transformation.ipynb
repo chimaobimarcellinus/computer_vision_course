{
 "cells": [
  {
   "cell_type": "code",
   "execution_count": 1,
   "id": "f61b0310-5d69-4dd1-a0d4-4812d2ef18a8",
   "metadata": {},
   "outputs": [],
   "source": [
    "import cv2\n",
    "import numpy as np"
   ]
  },
  {
   "cell_type": "code",
   "execution_count": 14,
   "id": "5eac0ddf-b572-44c7-98fc-cf2d98bf9430",
   "metadata": {},
   "outputs": [],
   "source": [
    "# input image\n",
    "image = cv2.imread(\"buga.png\")\n",
    "cv2.imshow(\"original image\", image)\n",
    "cv2.waitKey(0)\n",
    "\n",
    "# reducing the original image by half\n",
    "half_scaled = cv2.resize(image, dsize = None, fx = 0.5, fy = 0.5)\n",
    "cv2.imshow(\"half scaled image\", half_scaled)\n",
    "cv2.waitKey(0)\n",
    "\n",
    "# increasing image scaled with interpolation\n",
    "increse_scale = cv2.resize(image, dsize = None, fx = 1.5, fy= 1.5, interpolation = cv2.INTER_AREA)\n",
    "cv2.imshow(\"Increased scale\", increse_scale)\n",
    "cv2.waitKey(0)\n",
    "\n",
    "# skewing an image by including 'dsize' parameter\n",
    "scew = cv2.resize(image, dsize = (760, 150), interpolation = cv2.INTER_AREA)\n",
    "cv2.imshow(\"scew\", scew)\n",
    "cv2.waitKey(0)\n",
    "\n",
    "\n",
    "\n",
    "\n",
    "\n",
    "\n",
    "\n",
    "\n",
    "cv2.destroyAllWindows()"
   ]
  },
  {
   "cell_type": "markdown",
   "id": "c692c840-3bfc-45c6-9c6f-914cb054ff89",
   "metadata": {},
   "source": [
    "### Scaling by image pyramid\n",
    " Image pyramids comes handy. The pyrUp() function increases the size to double of its original size and pyrDown() function decreases the size to half.\n"
   ]
  },
  {
   "cell_type": "code",
   "execution_count": 16,
   "id": "967ab112-916b-475c-9914-48c34fd6fe60",
   "metadata": {},
   "outputs": [],
   "source": [
    "image = cv2.imread(\"buga.png\")\n",
    "cv2.imshow(\"original image\", image)\n",
    "cv2.waitKey(0)\n",
    "# scaling up\n",
    "large = cv2.pyrUp(image)\n",
    "cv2.imshow(\"large pyramid\", large)\n",
    "cv2.waitKey(0)\n",
    "\n",
    "# scaling down\n",
    "small = cv2.pyrDown(image)\n",
    "cv2.imshow(\"scaaling down pyramid\", small)\n",
    "cv2.waitKey(0)\n",
    "\n",
    "cv2.destroyAllWindows()"
   ]
  },
  {
   "cell_type": "markdown",
   "id": "4cb64962-eb1e-4342-a845-955adf463be0",
   "metadata": {},
   "source": [
    "### Rotation and Flip using OpenCV\n",
    "cv2.getRotationMatrix2D(rotation_center_x, rotation_center_y, angle of rotation, scale)"
   ]
  },
  {
   "cell_type": "code",
   "execution_count": 6,
   "id": "a7767b91-0180-4990-b6e5-536a88d340cb",
   "metadata": {},
   "outputs": [],
   "source": [
    "import cv2\n",
    "import numpy as np "
   ]
  },
  {
   "cell_type": "code",
   "execution_count": 26,
   "id": "5044c5c7-095d-46bc-b3ee-29130d9c88d2",
   "metadata": {},
   "outputs": [
    {
     "data": {
      "text/plain": [
       "((373, 557, 3), (373, 557))"
      ]
     },
     "execution_count": 26,
     "metadata": {},
     "output_type": "execute_result"
    }
   ],
   "source": [
    "# geting the shape of the input image \n",
    "image = cv2.imread(\"buga.png\")\n",
    "\n",
    "# image.shape prints out the shape of an image \n",
    "# image.shape[:2] output the first 2 columns\n",
    "image.shape, image.shape[:2]"
   ]
  },
  {
   "cell_type": "code",
   "execution_count": 34,
   "id": "9fa9d5d6-aad3-49d6-8d39-727c72065f2c",
   "metadata": {},
   "outputs": [],
   "source": [
    "# loading the input image \n",
    "image = cv2.imread(\"buga.png\")\n",
    "cv2.imshow(\"original image\", image)\n",
    "\n",
    "# getting the height and width of the image \n",
    "height, width = image.shape[:2]\n",
    "\n",
    "# dividing height and width by 2 to rotate the image about it center. we use the rotation matrx\n",
    "rotation_mat = cv2.getRotationMatrix2D( (height/2, width/2), 45, 1)\n",
    "\n",
    "rotate_image_output = cv2.warpAffine(image, rotation_mat, (width, height))\n",
    "cv2.imshow(\"rotated image\", rotate_image_output)\n",
    "\n",
    "cv2.waitKey(0)\n",
    "cv2.destroyAllWindows()\n"
   ]
  },
  {
   "cell_type": "markdown",
   "id": "2c164b5d-329b-44f5-8a96-470297cf1dc4",
   "metadata": {},
   "source": [
    "### Flipping an image horizontally or vertically \n",
    "cv2.flip(image, flip_code(1 or 0))"
   ]
  },
  {
   "cell_type": "code",
   "execution_count": 37,
   "id": "1bde4409-45f4-4571-afae-01df002fcba4",
   "metadata": {},
   "outputs": [
    {
     "ename": "error",
     "evalue": "OpenCV(4.12.0) :-1: error: (-5:Bad argument) in function 'flip'\n> Overload resolution failed:\n>  - src is not a numpy array, neither a scalar\n>  - Expected Ptr<cv::UMat> for argument 'src'\n",
     "output_type": "error",
     "traceback": [
      "\u001b[1;31m---------------------------------------------------------------------------\u001b[0m",
      "\u001b[1;31merror\u001b[0m                                     Traceback (most recent call last)",
      "Cell \u001b[1;32mIn[37], line 11\u001b[0m\n\u001b[0;32m      8\u001b[0m cv2\u001b[38;5;241m.\u001b[39mwaitKey(\u001b[38;5;241m0\u001b[39m)\n\u001b[0;32m     10\u001b[0m \u001b[38;5;66;03m# horizontal flip\u001b[39;00m\n\u001b[1;32m---> 11\u001b[0m h_flip \u001b[38;5;241m=\u001b[39m cv2\u001b[38;5;241m.\u001b[39mflip(\u001b[38;5;124m\"\u001b[39m\u001b[38;5;124mhori flip\u001b[39m\u001b[38;5;124m\"\u001b[39m, \u001b[38;5;241m1\u001b[39m)\n\u001b[0;32m     12\u001b[0m cv2\u001b[38;5;241m.\u001b[39mimshow(\u001b[38;5;124m\"\u001b[39m\u001b[38;5;124mhorizontal flip\u001b[39m\u001b[38;5;124m\"\u001b[39m, h_flip)\n\u001b[0;32m     13\u001b[0m cv2\u001b[38;5;241m.\u001b[39mwaitKey(\u001b[38;5;241m0\u001b[39m)\n",
      "\u001b[1;31merror\u001b[0m: OpenCV(4.12.0) :-1: error: (-5:Bad argument) in function 'flip'\n> Overload resolution failed:\n>  - src is not a numpy array, neither a scalar\n>  - Expected Ptr<cv::UMat> for argument 'src'\n"
     ]
    }
   ],
   "source": [
    "image = cv2.imread(\"buga.png\")\n",
    "cv2.imshow(\"original image\", image)\n",
    "cv2.waitKey(0)\n",
    "\n",
    "# flipping vertically \n",
    "v_flip = cv2.flip(image, 0)\n",
    "cv2.imshow(\"vertical flip\", v_flip)\n",
    "cv2.waitKey(0)\n",
    "\n",
    "# horizontal flip\n",
    "h_flip = cv2.flip(, 1)\n",
    "cv2.imshow(\"horizontal flip\", h_flip)\n",
    "cv2.waitKey(0)\n",
    "\n",
    "cv2.destroyAllWindows()"
   ]
  },
  {
   "cell_type": "code",
   "execution_count": null,
   "id": "250dbae6-8c33-42f9-8b32-d3e14ec61e6b",
   "metadata": {},
   "outputs": [],
   "source": []
  }
 ],
 "metadata": {
  "kernelspec": {
   "display_name": "Python 3 (ipykernel)",
   "language": "python",
   "name": "python3"
  },
  "language_info": {
   "codemirror_mode": {
    "name": "ipython",
    "version": 3
   },
   "file_extension": ".py",
   "mimetype": "text/x-python",
   "name": "python",
   "nbconvert_exporter": "python",
   "pygments_lexer": "ipython3",
   "version": "3.12.3"
  }
 },
 "nbformat": 4,
 "nbformat_minor": 5
}
