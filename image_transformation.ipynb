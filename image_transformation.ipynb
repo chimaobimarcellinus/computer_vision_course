{
 "cells": [
  {
   "cell_type": "code",
   "execution_count": 1,
   "id": "f61b0310-5d69-4dd1-a0d4-4812d2ef18a8",
   "metadata": {},
   "outputs": [],
   "source": [
    "import cv2\n",
    "import numpy as np"
   ]
  },
  {
   "cell_type": "code",
   "execution_count": 3,
   "id": "5eac0ddf-b572-44c7-98fc-cf2d98bf9430",
   "metadata": {},
   "outputs": [],
   "source": [
    "# input image\n",
    "image = cv2.imread(\"buga.png\")\n",
    "cv2.imshow(\"original image\", image)\n",
    "cv2.waitKey(0)\n",
    "\n",
    "# reducing the original image by half\n",
    "half_scaled = cv2.resize(image, dsize = None, fx = 0.5, fy = 0.5)\n",
    "cv2.imshow(\"half scaled image\", half_scaled)\n",
    "cv2.waitKey(0)\n",
    "\n",
    "# increasing image scaled\n",
    "increse_scale = cv2.resize(image, dsize = None, fx = 1.5, fy= 1.5)\n",
    "cv2.imshow(\"Increased scale\", increse_scale)\n",
    "cv2.waitKey(0)\n",
    "\n",
    "\n",
    "\n",
    "\n",
    "\n",
    "\n",
    "\n",
    "\n",
    "\n",
    "cv2.waitKey(0)\n",
    "cv2.destroyAllWindows()"
   ]
  },
  {
   "cell_type": "code",
   "execution_count": null,
   "id": "e6d4ad3c-53ec-4645-ad09-b491b6a49cfa",
   "metadata": {},
   "outputs": [],
   "source": []
  }
 ],
 "metadata": {
  "kernelspec": {
   "display_name": "Python 3 (ipykernel)",
   "language": "python",
   "name": "python3"
  },
  "language_info": {
   "codemirror_mode": {
    "name": "ipython",
    "version": 3
   },
   "file_extension": ".py",
   "mimetype": "text/x-python",
   "name": "python",
   "nbconvert_exporter": "python",
   "pygments_lexer": "ipython3",
   "version": "3.12.3"
  }
 },
 "nbformat": 4,
 "nbformat_minor": 5
}
