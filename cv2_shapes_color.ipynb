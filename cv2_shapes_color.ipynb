{
 "cells": [
  {
   "cell_type": "code",
   "execution_count": 3,
   "id": "912d4d27-2ded-4957-873d-746963aa5672",
   "metadata": {},
   "outputs": [],
   "source": [
    "import cv2\n",
    "import numpy as np\n",
    "\n",
    "# create a black image \n",
    "black_image = np.zeros(shape = (1024, 1024), dtype = np.uint8)\n",
    "\n",
    "# displaying the black image \n",
    "cv2.imshow(\"Black image\", black_image)\n",
    "\n",
    "cv2.waitKey(0)\n",
    "cv2.destroyAllWindows()"
   ]
  },
  {
   "cell_type": "markdown",
   "id": "9c1219a8-c8bc-4878-8c53-f49aba1dca1d",
   "metadata": {},
   "source": [
    "### Drawing a line on a black image \n",
    "`cv2.line(image, starting pount/cordinates, ending point/ cordinates, color, thickness)`"
   ]
  },
  {
   "cell_type": "code",
   "execution_count": 14,
   "id": "924d7bea-3c94-4044-92c5-ac6b5f602bd6",
   "metadata": {},
   "outputs": [],
   "source": [
    "# creating a square black image \n",
    "image = np.zeros((512, 512, 3), np.uint8)\n",
    "\n",
    "# draw line \n",
    "cv2.line(img = image, pt1 = (1,1), pt2= (512, 512), color = (100, 255, 0), thickness = 4 )\n",
    "\n",
    "# displaying the image \n",
    "cv2.imshow(\"gray_line\", image)\n",
    "cv2.waitKey(0)\n",
    "cv2.destroyAllWindows()\n",
    "\n",
    "\n",
    "\n"
   ]
  },
  {
   "cell_type": "code",
   "execution_count": 18,
   "id": "c61a24d7-ef61-4b06-bdfc-884e66bf056e",
   "metadata": {},
   "outputs": [],
   "source": [
    "# Draw a blue circle of thickness of 4 pixel or filling the entire circle with color\n",
    "\n",
    "# image \n",
    "image = np.zeros((512, 512, 3), np.uint8)\n",
    "cv2.circle(image, center = (256, 256), radius = 75, color = (255, 0, 0), thickness = -1) # covering the entire circle with blue color\n",
    "cv2.imshow(\"circle\", image) \n",
    "cv2.waitKey(0)\n",
    "cv2.destroyAllWindows()\n",
    "\n"
   ]
  },
  {
   "cell_type": "markdown",
   "id": "842e6bbd-35c2-4aa7-a15c-70cf782b93de",
   "metadata": {},
   "source": [
    "### Drawing a rectangle on a black image \n",
    "`cv2.rectangle(image, starting vertex, opposite vertex, color, thickness)`"
   ]
  },
  {
   "cell_type": "code",
   "execution_count": 25,
   "id": "93ab548b-1c03-4bb9-8f7b-de6582654b58",
   "metadata": {},
   "outputs": [],
   "source": [
    "# Draw a gray rectangle\n",
    "\n",
    "# image\n",
    "black_image = np.zeros((512, 512, 3), np.uint8)\n",
    "\n",
    "cv2.rectangle(black_image, (50, 100), (250, 250), (110, 110, 0), 4)\n",
    "cv2.imshow(\"rec_black\", black_image)\n",
    "cv2.waitKey(0)\n",
    "cv2.destroyAllWindows()"
   ]
  },
  {
   "cell_type": "code",
   "execution_count": null,
   "id": "41776946-2c00-4f13-a1aa-c617d0e736dc",
   "metadata": {},
   "outputs": [],
   "source": []
  }
 ],
 "metadata": {
  "kernelspec": {
   "display_name": "Python 3 (ipykernel)",
   "language": "python",
   "name": "python3"
  },
  "language_info": {
   "codemirror_mode": {
    "name": "ipython",
    "version": 3
   },
   "file_extension": ".py",
   "mimetype": "text/x-python",
   "name": "python",
   "nbconvert_exporter": "python",
   "pygments_lexer": "ipython3",
   "version": "3.12.3"
  }
 },
 "nbformat": 4,
 "nbformat_minor": 5
}
