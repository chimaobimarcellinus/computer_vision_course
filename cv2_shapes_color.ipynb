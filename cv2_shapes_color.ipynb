{
 "cells": [
  {
   "cell_type": "code",
   "execution_count": 3,
   "id": "912d4d27-2ded-4957-873d-746963aa5672",
   "metadata": {},
   "outputs": [],
   "source": [
    "import cv2\n",
    "import numpy as np\n",
    "\n",
    "# create a black image \n",
    "black_image = np.zeros(shape = (1024, 1024), dtype = np.uint8)\n",
    "\n",
    "# displaying the black image \n",
    "cv2.imshow(\"Black image\", black_image)\n",
    "\n",
    "cv2.waitKey(0)\n",
    "cv2.destroyAllWindows()"
   ]
  },
  {
   "cell_type": "markdown",
   "id": "9c1219a8-c8bc-4878-8c53-f49aba1dca1d",
   "metadata": {},
   "source": [
    "### Drawing a line on a black image \n",
    "`cv2.line(image, starting pount/cordinates, ending point/ cordinates, color, thickness)`"
   ]
  },
  {
   "cell_type": "code",
   "execution_count": 14,
   "id": "924d7bea-3c94-4044-92c5-ac6b5f602bd6",
   "metadata": {},
   "outputs": [],
   "source": [
    "# creating a square black image \n",
    "image = np.zeros((512, 512, 3), np.uint8)\n",
    "\n",
    "# draw line \n",
    "cv2.line(img = image, pt1 = (1,1), pt2= (512, 512), color = (100, 255, 0), thickness = 4 )\n",
    "\n",
    "# displaying the image \n",
    "cv2.imshow(\"gray_line\", image)\n",
    "cv2.waitKey(0)\n",
    "cv2.destroyAllWindows()\n",
    "\n",
    "\n",
    "\n"
   ]
  },
  {
   "cell_type": "code",
   "execution_count": 18,
   "id": "c61a24d7-ef61-4b06-bdfc-884e66bf056e",
   "metadata": {},
   "outputs": [],
   "source": [
    "# Draw a blue circle of thickness of 4 pixel or filling the entire circle with color\n",
    "\n",
    "# image \n",
    "image = np.zeros((512, 512, 3), np.uint8)\n",
    "cv2.circle(image, center = (256, 256), radius = 75, color = (255, 0, 0), thickness = -1) # covering the entire circle with blue color\n",
    "cv2.imshow(\"circle\", image) \n",
    "cv2.waitKey(0)\n",
    "cv2.destroyAllWindows()\n",
    "\n"
   ]
  },
  {
   "cell_type": "markdown",
   "id": "842e6bbd-35c2-4aa7-a15c-70cf782b93de",
   "metadata": {},
   "source": [
    "### Drawing a rectangle on a black image \n",
    "`cv2.rectangle(image, starting vertex, opposite vertex, color, thickness)`"
   ]
  },
  {
   "cell_type": "code",
   "execution_count": 25,
   "id": "93ab548b-1c03-4bb9-8f7b-de6582654b58",
   "metadata": {},
   "outputs": [],
   "source": [
    "# Draw a gray rectangle\n",
    "\n",
    "# image\n",
    "black_image = np.zeros((512, 512, 3), np.uint8)\n",
    "\n",
    "cv2.rectangle(black_image, (50, 100), (250, 250), (110, 110, 0), 4)\n",
    "cv2.imshow(\"rec_black\", black_image)\n",
    "cv2.waitKey(0)\n",
    "cv2.destroyAllWindows()"
   ]
  },
  {
   "cell_type": "markdown",
   "id": "3ceef235-bb21-4629-a8fb-9fb52e5ac22f",
   "metadata": {},
   "source": [
    "### Adding Text to images\n",
    "in inserting text to an image we use the below syntax <br><br>\n",
    "`cv2.putText(image, \"Text to display\", bottom left starting point, Font, Font size, color, thickness)`\n",
    "<br><br>\n",
    "\n",
    "* FONT_HERSHEY_SCRIPT_SIMPLEX\n",
    "* FONT_HERSHEY_SCRIPT_COMPLEX\n",
    "* FONT_HERSHEY_DUPLEXFONT_HERSHEY_COMPLEX\n",
    "* FONT_HERSHEY_TRIPLEX_FONT_HERSHEY_COMPLEX_SMALL\n"
   ]
  },
  {
   "cell_type": "code",
   "execution_count": 38,
   "id": "3793c33c-32e7-4570-8fce-0154da9435f7",
   "metadata": {},
   "outputs": [],
   "source": [
    "# Add text to a image \n",
    "\n",
    "# image\n",
    "image = np.zeros((612, 612, 3), np.uint8)\n",
    "\n",
    "cv2.putText(image, \"Trying CV2 text !\", (10, 100), cv2.FONT_HERSHEY_SCRIPT_COMPLEX, 2, (100, 17, 132), 2 )\n",
    "\n",
    "cv2.imshow(\"text\",  image)\n",
    "cv2.waitKey(0)\n",
    "cv2.destroyAllWindows()"
   ]
  },
  {
   "cell_type": "code",
   "execution_count": 40,
   "id": "7d0e0d61-07aa-4b4b-8141-11c1d64348c9",
   "metadata": {},
   "outputs": [
    {
     "data": {
      "text/plain": [
       "(4, 2)"
      ]
     },
     "execution_count": 40,
     "metadata": {},
     "output_type": "execute_result"
    }
   ],
   "source": [
    "pts = np.array([[25, 65], [415, 64], [43,211], [463, 23]])\n",
    "pts.shape"
   ]
  },
  {
   "cell_type": "code",
   "execution_count": 42,
   "id": "48815e74-8c64-4f9a-b282-bef161891f09",
   "metadata": {},
   "outputs": [
    {
     "data": {
      "text/plain": [
       "(4, 1, 2)"
      ]
     },
     "execution_count": 42,
     "metadata": {},
     "output_type": "execute_result"
    }
   ],
   "source": [
    "pts = pts.reshape((-1, 1, 2))\n",
    "pts.shape"
   ]
  },
  {
   "cell_type": "code",
   "execution_count": null,
   "id": "d6cc85f0-1b59-420d-95e7-6f9449e37fae",
   "metadata": {},
   "outputs": [],
   "source": []
  }
 ],
 "metadata": {
  "kernelspec": {
   "display_name": "Python 3 (ipykernel)",
   "language": "python",
   "name": "python3"
  },
  "language_info": {
   "codemirror_mode": {
    "name": "ipython",
    "version": 3
   },
   "file_extension": ".py",
   "mimetype": "text/x-python",
   "name": "python",
   "nbconvert_exporter": "python",
   "pygments_lexer": "ipython3",
   "version": "3.12.3"
  }
 },
 "nbformat": 4,
 "nbformat_minor": 5
}
