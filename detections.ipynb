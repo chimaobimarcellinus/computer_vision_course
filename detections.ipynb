{
 "cells": [
  {
   "cell_type": "markdown",
   "id": "4eac1f16-1349-4840-83c2-f8f67ed865e9",
   "metadata": {},
   "source": [
    "### Edge detection using open CV\n",
    "\n",
    "Types of Edge detection algorithms \n",
    "1. Laplacian\n",
    "2. Canny: will need a threshold to clear it (best contender)\n",
    "3. Sobel :  not so best. needs filtering "
   ]
  },
  {
   "cell_type": "code",
   "execution_count": 5,
   "id": "0abd2b61-15b2-4182-b89a-5812dfe698a2",
   "metadata": {},
   "outputs": [],
   "source": [
    "import cv2 \n",
    "import numpy as np\n",
    "\n",
    "#load the data\n",
    "image = cv2.imread(\"buga.png\", 0)  # the input is converted to black and white\n",
    "cv2.imshow(\"original image\", image)\n",
    "cv2.waitKey(0)\n",
    "\n",
    "# Sobel algorithm\n",
    "# Extract sobel edges\n",
    "sobel_edg_x = cv2.Sobel(image, cv2.CV_64F, 0, 1, ksize = 5)\n",
    "sobel_edg_y = cv2.Sobel(image, cv2.CV_64F, 1, 0, ksize = 5)\n",
    "\n",
    "cv2.imshow(\"sobel X\", sobel_edg_x)\n",
    "cv2.waitKey(0)\n",
    "cv2.imshow(\"sobel Y\", sobel_edg_y)\n",
    "cv2.waitKey(0)\n",
    "\n",
    "# Apply OR oeration\n",
    "OR_operation = cv2.bitwise_or(sobel_edg_x, sobel_edg_y)\n",
    "cv2.imshow(\"Sobel OR operation\", OR_operation)\n",
    "cv2.waitKey(0)\n",
    "\n",
    "# Laplacian Edge Detection\n",
    "laplacian_edg = cv2.Laplacian(image, cv2.CV_64F)\n",
    "cv2.imshow(\"Laplancian Edge Detection\", laplacian_edg)\n",
    "cv2.waitKey(0)\n",
    "\n",
    "# Canny edge detection  \n",
    "# this algorithm uses threshold\n",
    "canny_edg = cv2.Canny(image, 30, 180)\n",
    "cv2.imshow(\"Canny Edge\", canny_edg)\n",
    "cv2.waitKey(0)\n",
    "\n",
    "cv2.destroyAllWindows()"
   ]
  },
  {
   "cell_type": "markdown",
   "id": "1d68afac-523d-4946-b47b-46510adc0db6",
   "metadata": {},
   "source": [
    "### BLOB Detection\n",
    "#### BLOB (Binary Large Object)\n",
    "is a gropu of images in a pixel that share common properties"
   ]
  },
  {
   "cell_type": "code",
   "execution_count": 20,
   "id": "9270a9c7-0cb0-4e48-8784-8a8377bcc8ca",
   "metadata": {},
   "outputs": [],
   "source": [
    "import cv2 \n",
    "import numpy as np\n",
    "\n",
    "image = cv2.imread(\"sun2.png\", 0)\n",
    "cv2.imshow(\"original image\", image)\n",
    "cv2.waitKey(0)\n",
    "\n",
    "# set up the detector with default parameters.\n",
    "detector = cv2.SimpleBlobDetector_create()\n",
    "\n",
    "# Detect blobs\n",
    "keypoint_info = detector.detect(image)\n",
    "\n",
    "# higghlight detected blobs as blue circles\n",
    "blank_img = np.zeros((1,1))\n",
    "# viewing the blank image\n",
    "cv2.imshow(\"blank image\", blank_img)\n",
    "\n",
    "blobs = cv2.drawKeypoints(image, keypoint_info, np.array([]), (255,0,0), cv2.DRAW_MATCHES_FLAGS_DRAW_RICH_KEYPOINTS)\n",
    "cv2.imshow(\"Blobs\", blobs)\n",
    "cv2.waitKey(0) \n",
    "\n",
    "\n",
    "\n",
    "cv2.destroyAllWindows()"
   ]
  },
  {
   "cell_type": "code",
   "execution_count": null,
   "id": "436f4721-37b2-4bc8-8336-e657b1ce4eb2",
   "metadata": {},
   "outputs": [],
   "source": []
  }
 ],
 "metadata": {
  "kernelspec": {
   "display_name": "Python 3 (ipykernel)",
   "language": "python",
   "name": "python3"
  },
  "language_info": {
   "codemirror_mode": {
    "name": "ipython",
    "version": 3
   },
   "file_extension": ".py",
   "mimetype": "text/x-python",
   "name": "python",
   "nbconvert_exporter": "python",
   "pygments_lexer": "ipython3",
   "version": "3.12.3"
  }
 },
 "nbformat": 4,
 "nbformat_minor": 5
}
